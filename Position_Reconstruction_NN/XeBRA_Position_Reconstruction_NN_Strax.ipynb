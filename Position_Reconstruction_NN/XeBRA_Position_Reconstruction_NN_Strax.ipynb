{
 "cells": [
  {
   "cell_type": "code",
   "execution_count": 4,
   "metadata": {
    "ExecuteTime": {
     "end_time": "2019-09-03T17:10:54.446158Z",
     "start_time": "2019-09-03T17:10:53.741029Z"
    }
   },
   "outputs": [],
   "source": [
    "## Imports:\n",
    "import numpy as np\n",
    "import keras\n",
    "\n",
    "## Load the trained model from corresponding HDF5 file\n",
    "model_NN = keras.models.load_model('XeBRA_Position_Reconstruction_NN_Model.h5')"
   ]
  },
  {
   "cell_type": "code",
   "execution_count": 5,
   "metadata": {
    "ExecuteTime": {
     "end_time": "2019-09-03T17:10:54.458128Z",
     "start_time": "2019-09-03T17:10:54.448181Z"
    }
   },
   "outputs": [],
   "source": [
    "'''\n",
    "Position Reconstruction for XeBRA\n",
    "\n",
    "Version 0.0.1: Weighted Sum\n",
    "Version 0.0.2: LRF\n",
    "Version 0.0.3: Neural Network\n",
    "\n",
    "Status: September 2019, Version 0.0.3\n",
    "\n",
    "Position reconstruction for XeBRA using a Deep Feed Forward (DFF) Neural Network \n",
    "with Keras trained on Geant4 MC simulations.\n",
    "'''\n",
    "\n",
    "def reconstructed_position(input_array):\n",
    "    ## Normalize sum input to 1 in order to correspond to area fraction in top array\n",
    "    HFs_input = input_array / np.sum(input_array)\n",
    "    ## Use model to reconstruct position\n",
    "    ## Important: Factor 70 for rescaling label\n",
    "    predictions = model_NN.predict(np.array([HFs_input]))[0]*70\n",
    "    return predictions"
   ]
  },
  {
   "cell_type": "code",
   "execution_count": 6,
   "metadata": {
    "ExecuteTime": {
     "end_time": "2019-09-03T17:10:54.539306Z",
     "start_time": "2019-09-03T17:10:54.461172Z"
    }
   },
   "outputs": [
    {
     "data": {
      "text/plain": [
       "array([18.397104, 17.57973 ], dtype=float32)"
      ]
     },
     "execution_count": 6,
     "metadata": {},
     "output_type": "execute_result"
    }
   ],
   "source": [
    "predict_feature = np.array([0.02448657, 0.04107425, 0.06240126, 0.4399684 , 0.23933649,  0.04107425, 0.15165877])\n",
    "reconstructed_position(predict_feature)"
   ]
  },
  {
   "cell_type": "raw",
   "metadata": {},
   "source": [
    "predict_feature.shape\n",
    "    (20000, 7)\n",
    "predict_feature[0]\n",
    "    array([0.02448657, 0.04107425, 0.06240126, 0.4399684 , 0.23933649,\n",
    "       0.04107425, 0.15165877])\n",
    "predictions[0]\n",
    "    array([18.397106, 17.579727], dtype=float32)"
   ]
  }
 ],
 "metadata": {
  "kernelspec": {
   "display_name": "Python 3",
   "language": "python",
   "name": "python3"
  },
  "language_info": {
   "codemirror_mode": {
    "name": "ipython",
    "version": 3
   },
   "file_extension": ".py",
   "mimetype": "text/x-python",
   "name": "python",
   "nbconvert_exporter": "python",
   "pygments_lexer": "ipython3",
   "version": "3.7.3"
  },
  "toc": {
   "base_numbering": 1,
   "nav_menu": {
    "height": "169px",
    "width": "491.767px"
   },
   "number_sections": true,
   "sideBar": true,
   "skip_h1_title": false,
   "title_cell": "Table of Contents",
   "title_sidebar": "Contents",
   "toc_cell": false,
   "toc_position": {},
   "toc_section_display": true,
   "toc_window_display": false
  }
 },
 "nbformat": 4,
 "nbformat_minor": 2
}
