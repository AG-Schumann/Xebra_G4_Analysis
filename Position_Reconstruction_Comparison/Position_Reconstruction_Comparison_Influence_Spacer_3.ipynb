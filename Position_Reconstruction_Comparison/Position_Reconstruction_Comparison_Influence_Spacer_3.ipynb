{
 "cells": [
  {
   "cell_type": "markdown",
   "metadata": {},
   "source": [
    "# Influence Spacer 3"
   ]
  },
  {
   "cell_type": "code",
   "execution_count": 1,
   "metadata": {
    "ExecuteTime": {
     "end_time": "2019-09-07T17:52:16.205257Z",
     "start_time": "2019-09-07T17:52:15.290830Z"
    }
   },
   "outputs": [],
   "source": [
    "## Imports:\n",
    "\n",
    "import sys\n",
    "import glob\n",
    "\n",
    "import numpy as np\n",
    "from numpy import exp\n",
    "import matplotlib\n",
    "import matplotlib.pyplot as plt\n",
    "from matplotlib.ticker import AutoMinorLocator\n",
    "from matplotlib import gridspec\n",
    "from matplotlib.image import NonUniformImage\n",
    "from matplotlib.patches import Rectangle\n",
    "%matplotlib inline\n",
    "\n",
    "import pandas as pd\n",
    "import math\n",
    "\n",
    "from scipy import optimize\n",
    "from scipy.optimize import curve_fit\n",
    "from scipy.optimize import minimize\n",
    "from scipy import stats\n",
    "from pylab import meshgrid,cm,imshow,contour,clabel,colorbar,axis,title,show\n",
    "from scipy.interpolate import spline\n",
    "from scipy.interpolate import make_interp_spline, BSpline\n",
    "from scipy.interpolate import griddata\n",
    "from scipy.stats import chisquare\n",
    "from scipy.stats import power_divergence"
   ]
  },
  {
   "cell_type": "markdown",
   "metadata": {},
   "source": [
    "## General Definitions and Parameters"
   ]
  },
  {
   "cell_type": "code",
   "execution_count": 2,
   "metadata": {
    "ExecuteTime": {
     "end_time": "2019-09-07T17:52:35.117381Z",
     "start_time": "2019-09-07T17:52:35.098905Z"
    }
   },
   "outputs": [],
   "source": [
    "## General function definitions:\n",
    "\n",
    "def f_polar_R(cartesian_x, cartesian_y):\n",
    "    return np.sqrt(cartesian_x * cartesian_x + cartesian_y * cartesian_y)\n",
    "\n",
    "def f_polar_Phi(cartesian_x, cartesian_y):\n",
    "    return np.arctan2(cartesian_y, cartesian_x)\n",
    "\n",
    "def f_distance(x_a, y_a, x_b, y_b):\n",
    "    return np.sqrt((x_b - x_a)**2 + (y_b - y_a)**2)\n",
    "\n",
    "\n",
    "def flatten_tuples(tup):\n",
    "    return np.array([element for tupl in tup for element in tupl])\n",
    "\n",
    "def sum_tuple_subentries(tup):\n",
    "    return [np.sum(tupl) for tupl in tup]\n",
    "\n",
    "def nth_tuple_subentries(tup, n):\n",
    "    return [tupl[n] for tupl in tup]\n",
    "\n",
    "\n",
    "def from_np_array(array_string):\n",
    "    array_string = ','.join(array_string.replace('[ ', '[').split())\n",
    "    return np.array(ast.literal_eval(array_string))"
   ]
  },
  {
   "cell_type": "code",
   "execution_count": 3,
   "metadata": {
    "ExecuteTime": {
     "end_time": "2019-09-07T17:52:45.437284Z",
     "start_time": "2019-09-07T17:52:45.380740Z"
    }
   },
   "outputs": [],
   "source": [
    "## PMT properties\n",
    "R8520_body_width = 25.7\n",
    "R8520_body_cornerradius = 2.\n",
    "R8520_photocathode_width = 20.5\n",
    "R8520_photocathode_cornerradius = 1.\n",
    "PMT_ID = np.array([1,2,3,4,5,6,7])\n",
    "PMT_position_x = np.array([-14.,-28,-14.,14.,28.,14.,0.])      # x-position PMTs in mm in cartesian coordinates\n",
    "PMT_position_y = np.array([-28.,0.,28.,28.,0.,-28.,0.])        # y-position PMTs in mm in cartesian coordinates\n",
    "PMT_position_R = f_polar_R(PMT_position_x, PMT_position_y)     # radial position PMTs in mm in polar coordinates\n",
    "PMT_position_Phi = f_polar_Phi(PMT_position_x, PMT_position_y) # angular position PMTs in rad in polar coordinates\n",
    "PMT_positions = pd.DataFrame(index=PMT_ID, data={'PMT_ID': PMT_ID, 'PMT_position_x': PMT_position_x, 'PMT_position_y': PMT_position_y, 'PMT_position_R': PMT_position_R, 'PMT_position_Phi': PMT_position_Phi})"
   ]
  },
  {
   "cell_type": "markdown",
   "metadata": {},
   "source": [
    "## Imports and Data Processing"
   ]
  },
  {
   "cell_type": "code",
   "execution_count": 18,
   "metadata": {
    "ExecuteTime": {
     "end_time": "2019-09-07T18:19:09.337924Z",
     "start_time": "2019-09-07T18:19:08.858695Z"
    },
    "scrolled": true
   },
   "outputs": [
    {
     "name": "stdout",
     "output_type": "stream",
     "text": [
      "'/media/alex/TOSHIBA EXT/Thesis/Simulation_Outputs/Position_Reconstruction_LRF/optPhot_S2_1.0e+06_pmtGap0.0_RPTFE0.95_LXeAbs100_Tmesh0.89770509_nop_1.0e+04_ReconstructedPosition_Deviations_Centroids.pkl'\n",
      "'/media/alex/TOSHIBA EXT/Thesis/Simulation_Outputs/Position_Reconstruction_LRF/optPhot_S2_1.0e+06_pmtGap4.5_RPTFE0.95_LXeAbs100_Tmesh0.89770509_writeEmptyFalse_nop_1.0e+04_ReconstructedPosition_Deviations_Centroids.pkl'\n",
      "'/media/alex/TOSHIBA EXT/Thesis/Simulation_Outputs/Position_Reconstruction_LRF/optPhot_S2_1.0e+07_pmtGap0_RPTFE0.95_LXeAbs100_Tmesh0.89770509_ReconstructedPosition_Deviations_Centroids.pkl'\n",
      "'/media/alex/TOSHIBA EXT/Thesis/Simulation_Outputs/Position_Reconstruction_LRF/optPhot_S2_1.0e+07_pmtGap10c_RPTFE0.95_LXeAbs100_Tmesh0.89770509_ReconstructedPosition_Deviations_Centroids.pkl'\n",
      "'/media/alex/TOSHIBA EXT/Thesis/Simulation_Outputs/Position_Reconstruction_LRF/optPhot_S2_1.0e+07_pmtGap13-23_RPTFE0.95_LXeAbs100_Tmesh0.89770509_ReconstructedPosition_Deviations_Centroids.pkl'\n",
      "'/media/alex/TOSHIBA EXT/Thesis/Simulation_Outputs/Position_Reconstruction_LRF/optPhot_S2_1.0e+07_pmtGap15c_RPTFE0.95_LXeAbs100_Tmesh0.89770509_ReconstructedPosition_Deviations_Centroids.pkl'\n",
      "'/media/alex/TOSHIBA EXT/Thesis/Simulation_Outputs/Position_Reconstruction_LRF/optPhot_S2_1.0e+07_pmtGap20c_RPTFE0.95_LXeAbs100_Tmesh0.89770509_ReconstructedPosition_Deviations_Centroids.pkl'\n",
      "'/media/alex/TOSHIBA EXT/Thesis/Simulation_Outputs/Position_Reconstruction_LRF/optPhot_S2_1.0e+07_pmtGap23c_RPTFE0.95_LXeAbs100_Tmesh0.89770509_ReconstructedPosition_Deviations_Centroids.pkl'\n",
      "'/media/alex/TOSHIBA EXT/Thesis/Simulation_Outputs/Position_Reconstruction_LRF/optPhot_S2_1.0e+07_pmtGap3_RPTFE0.95_LXeAbs100_Tmesh0.89770509_ReconstructedPosition_Deviations_Centroids.pkl'\n",
      "'/media/alex/TOSHIBA EXT/Thesis/Simulation_Outputs/Position_Reconstruction_LRF/optPhot_S2_1.0e+07_pmtGap4.5_PTFEUnpolished005_RPTFE0.95_LXeAbs100_Tmesh0.89770509_ReconstructedPosition_Deviations_Centroids.pkl'\n",
      "'/media/alex/TOSHIBA EXT/Thesis/Simulation_Outputs/Position_Reconstruction_LRF/optPhot_S2_1.0e+07_pmtGap4.5_RPTFE0.95_LXeAbs100_Tmesh0.89770509_ReconstructedPosition_Deviations_Centroids.pkl'\n",
      "'/media/alex/TOSHIBA EXT/Thesis/Simulation_Outputs/Position_Reconstruction_LRF/optPhot_S2_1.0e+07_pmtGap4.5_SS_RPTFE0.95_LXeAbs100_Tmesh0.89770509_ReconstructedPosition_Deviations_Centroids.pkl'\n",
      "'/media/alex/TOSHIBA EXT/Thesis/Simulation_Outputs/Position_Reconstruction_LRF/optPhot_S2_1.0e+07_pmtGap5_RPTFE0.95_LXeAbs100_Tmesh0.89770509_ReconstructedPosition_Deviations_Centroids.pkl'\n",
      "'/media/alex/TOSHIBA EXT/Thesis/Simulation_Outputs/Position_Reconstruction_LRF/optPhot_S2_3.0e+07_pmtGap0.0_RPTFE0.95_LXeAbs100_Tmesh0.89770509_writeEmptyFalse_ReconstructedPosition_Deviations_Centroids.pkl'\n",
      "'/media/alex/TOSHIBA EXT/Thesis/Simulation_Outputs/Position_Reconstruction_LRF/optPhot_S2_3.0e+07_pmtGap4.5_RPTFE0.95_LXeAbs100_Tmesh0.89770509_writeEmptyFalse_ReconstructedPosition_Deviations_Centroids.pkl'\n",
      "'/media/alex/TOSHIBA EXT/Thesis/Simulation_Outputs/Position_Reconstruction_LRF/optPhot_S2_1.0e+06_pmtGap0.0_RPTFE0.95_LXeAbs100_Tmesh0.89770509_nop_1.0e+04_Goodness_fiducialisation_Centroids.pkl'\n",
      "'/media/alex/TOSHIBA EXT/Thesis/Simulation_Outputs/Position_Reconstruction_LRF/optPhot_S2_1.0e+06_pmtGap4.5_RPTFE0.95_LXeAbs100_Tmesh0.89770509_writeEmptyFalse_nop_1.0e+04_Goodness_fiducialisation_Centroids.pkl'\n",
      "'/media/alex/TOSHIBA EXT/Thesis/Simulation_Outputs/Position_Reconstruction_LRF/optPhot_S2_1.0e+07_pmtGap0_RPTFE0.95_LXeAbs100_Tmesh0.89770509_Goodness_fiducialisation_Centroids.pkl'\n",
      "'/media/alex/TOSHIBA EXT/Thesis/Simulation_Outputs/Position_Reconstruction_LRF/optPhot_S2_1.0e+07_pmtGap10c_RPTFE0.95_LXeAbs100_Tmesh0.89770509_Goodness_fiducialisation_Centroids.pkl'\n",
      "'/media/alex/TOSHIBA EXT/Thesis/Simulation_Outputs/Position_Reconstruction_LRF/optPhot_S2_1.0e+07_pmtGap13-23_RPTFE0.95_LXeAbs100_Tmesh0.89770509_Goodness_fiducialisation_Centroids.pkl'\n",
      "'/media/alex/TOSHIBA EXT/Thesis/Simulation_Outputs/Position_Reconstruction_LRF/optPhot_S2_1.0e+07_pmtGap15c_RPTFE0.95_LXeAbs100_Tmesh0.89770509_Goodness_fiducialisation_Centroids.pkl'\n",
      "'/media/alex/TOSHIBA EXT/Thesis/Simulation_Outputs/Position_Reconstruction_LRF/optPhot_S2_1.0e+07_pmtGap20c_RPTFE0.95_LXeAbs100_Tmesh0.89770509_Goodness_fiducialisation_Centroids.pkl'\n",
      "'/media/alex/TOSHIBA EXT/Thesis/Simulation_Outputs/Position_Reconstruction_LRF/optPhot_S2_1.0e+07_pmtGap23c_RPTFE0.95_LXeAbs100_Tmesh0.89770509_Goodness_fiducialisation_Centroids.pkl'\n",
      "'/media/alex/TOSHIBA EXT/Thesis/Simulation_Outputs/Position_Reconstruction_LRF/optPhot_S2_1.0e+07_pmtGap3_RPTFE0.95_LXeAbs100_Tmesh0.89770509_Goodness_fiducialisation_Centroids.pkl'\n",
      "'/media/alex/TOSHIBA EXT/Thesis/Simulation_Outputs/Position_Reconstruction_LRF/optPhot_S2_1.0e+07_pmtGap4.5_PTFEUnpolished005_RPTFE0.95_LXeAbs100_Tmesh0.89770509_Goodness_fiducialisation_Centroids.pkl'\n",
      "'/media/alex/TOSHIBA EXT/Thesis/Simulation_Outputs/Position_Reconstruction_LRF/optPhot_S2_1.0e+07_pmtGap4.5_RPTFE0.95_LXeAbs100_Tmesh0.89770509_Goodness_fiducialisation_Centroids.pkl'\n",
      "'/media/alex/TOSHIBA EXT/Thesis/Simulation_Outputs/Position_Reconstruction_LRF/optPhot_S2_1.0e+07_pmtGap4.5_SS_RPTFE0.95_LXeAbs100_Tmesh0.89770509_Goodness_fiducialisation_Centroids.pkl'\n",
      "'/media/alex/TOSHIBA EXT/Thesis/Simulation_Outputs/Position_Reconstruction_LRF/optPhot_S2_1.0e+07_pmtGap5_RPTFE0.95_LXeAbs100_Tmesh0.89770509_Goodness_fiducialisation_Centroids.pkl'\n",
      "'/media/alex/TOSHIBA EXT/Thesis/Simulation_Outputs/Position_Reconstruction_LRF/optPhot_S2_3.0e+07_pmtGap0.0_RPTFE0.95_LXeAbs100_Tmesh0.89770509_writeEmptyFalse_Goodness_fiducialisation_Centroids.pkl'\n",
      "'/media/alex/TOSHIBA EXT/Thesis/Simulation_Outputs/Position_Reconstruction_LRF/optPhot_S2_3.0e+07_pmtGap4.5_RPTFE0.95_LXeAbs100_Tmesh0.89770509_writeEmptyFalse_Goodness_fiducialisation_Centroids.pkl'\n",
      "ls: cannot access '/media/ab602/TOSHIBA EXT/Thesis/Simulation_Outputs/Position_Reconstruction_LRF/*_ReconstructedPosition_Deviations_Centroids.pkl': No such file or directory\n",
      "ls: cannot access '/media/ab602/TOSHIBA EXT/Thesis/Simulation_Outputs/Position_Reconstruction_LRF/*_Goodness_fiducialisation_Centroids.pkl': No such file or directory\n"
     ]
    }
   ],
   "source": [
    "!ls /media/alex/TOSHIBA\\ EXT/Thesis/Simulation_Outputs/Position_Reconstruction_LRF/*_ReconstructedPosition_Deviations_Centroids.pkl\n",
    "!ls /media/alex/TOSHIBA\\ EXT/Thesis/Simulation_Outputs/Position_Reconstruction_LRF/*_Goodness_fiducialisation_Centroids.pkl\n",
    "!ls /media/ab602/TOSHIBA\\ EXT/Thesis/Simulation_Outputs/Position_Reconstruction_LRF/*_ReconstructedPosition_Deviations_Centroids.pkl\n",
    "!ls /media/ab602/TOSHIBA\\ EXT/Thesis/Simulation_Outputs/Position_Reconstruction_LRF/*_Goodness_fiducialisation_Centroids.pkl"
   ]
  }
 ],
 "metadata": {
  "kernelspec": {
   "display_name": "Python 3",
   "language": "python",
   "name": "python3"
  },
  "language_info": {
   "codemirror_mode": {
    "name": "ipython",
    "version": 3
   },
   "file_extension": ".py",
   "mimetype": "text/x-python",
   "name": "python",
   "nbconvert_exporter": "python",
   "pygments_lexer": "ipython3",
   "version": "3.7.3"
  },
  "toc": {
   "base_numbering": 1,
   "nav_menu": {},
   "number_sections": true,
   "sideBar": true,
   "skip_h1_title": false,
   "title_cell": "Table of Contents",
   "title_sidebar": "Contents",
   "toc_cell": false,
   "toc_position": {},
   "toc_section_display": true,
   "toc_window_display": false
  }
 },
 "nbformat": 4,
 "nbformat_minor": 2
}
