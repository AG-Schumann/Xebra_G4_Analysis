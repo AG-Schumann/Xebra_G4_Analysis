{
 "cells": [
  {
   "cell_type": "markdown",
   "metadata": {},
   "source": [
    "# Position Reconstruction for XeBRA - MC Iterative Reconstruction\n",
    "\n",
    "**Status:** July 2019\n",
    "\n",
    "Position reconstruction for XeBRA following the position reconstruction algorithm of Mercury (employed in the LUX experiment, originally developed for the ZEPLIN-III dark matter experiment) with light response functions (see https://arxiv.org/abs/1710.02752v2 and https://arxiv.org/abs/1112.1481 )."
   ]
  },
  {
   "cell_type": "code",
   "execution_count": 1,
   "metadata": {
    "ExecuteTime": {
     "end_time": "2019-07-02T13:23:46.872420Z",
     "start_time": "2019-07-02T13:23:45.639016Z"
    }
   },
   "outputs": [],
   "source": [
    "## Imports:\n",
    "\n",
    "import sys\n",
    "\n",
    "import numpy as np\n",
    "import matplotlib\n",
    "import matplotlib.pyplot as plt\n",
    "from matplotlib.ticker import AutoMinorLocator\n",
    "from matplotlib import gridspec\n",
    "from matplotlib.image import NonUniformImage\n",
    "from matplotlib.patches import Rectangle\n",
    "%matplotlib inline\n",
    "\n",
    "import uproot\n",
    "import collections\n",
    "import pandas as pd\n",
    "import math\n",
    "import ast\n",
    "from scipy import optimize\n",
    "from scipy.optimize import curve_fit\n",
    "from scipy.optimize import minimize\n",
    "from numpy import exp\n",
    "from pylab import meshgrid,cm,imshow,contour,clabel,colorbar,axis,title,show"
   ]
  },
  {
   "cell_type": "code",
   "execution_count": 2,
   "metadata": {
    "ExecuteTime": {
     "end_time": "2019-07-02T13:23:58.665898Z",
     "start_time": "2019-07-02T13:23:58.659362Z"
    }
   },
   "outputs": [],
   "source": [
    "## General function definitions:\n",
    "\n",
    "def f_polar_R(cartesian_x, cartesian_y):\n",
    "    return np.sqrt(cartesian_x * cartesian_x + cartesian_y * cartesian_y)\n",
    "\n",
    "def f_polar_Phi(cartesian_x, cartesian_y):\n",
    "    return np.arctan2(cartesian_y, cartesian_x)\n",
    "\n",
    "def f_distance(x_a, y_a, x_b, y_b):\n",
    "    return np.sqrt((x_b - x_a)**2 + (y_b - y_a)**2)\n",
    "\n",
    "\n",
    "def flatten_tuples(tup):\n",
    "    return np.array([element for tupl in tup for element in tupl])\n",
    "\n",
    "def sum_tuple_subentries(tup):\n",
    "    return [np.sum(tupl) for tupl in tup]\n",
    "\n",
    "def nth_tuple_subentries(tup, n):\n",
    "    return [tupl[n] for tupl in tup]\n",
    "\n",
    "\n",
    "def from_np_array(array_string):\n",
    "    array_string = ','.join(array_string.replace('[ ', '[').split())\n",
    "    return np.array(ast.literal_eval(array_string))"
   ]
  },
  {
   "cell_type": "code",
   "execution_count": null,
   "metadata": {},
   "outputs": [],
   "source": [
    "#### Properties PMTs:\n",
    "\n",
    "PMT_ID = np.array([1,2,3,4,5,6,7])\n",
    "\n",
    "## Positions:\n",
    "\n",
    "PMT_position_x = np.array([-14.,-28,-14.,14.,28.,14.,0.])      # x-position PMTs in mm in cartesian coordinates\n",
    "PMT_position_y = np.array([-28.,0.,28.,28.,0.,-28.,0.])        # y-position PMTs in mm in cartesian coordinates\n",
    "PMT_position_R = f_polar_R(PMT_position_x, PMT_position_y)     # radial position PMTs in mm in polar coordinates\n",
    "PMT_position_Phi = f_polar_Phi(PMT_position_x, PMT_position_y) # angular position PMTs in rad in polar coordinates\n",
    "\n",
    "PMT_positions = pd.DataFrame(index=PMT_ID, data={'PMT_ID': PMT_ID, 'PMT_position_x': PMT_position_x, 'PMT_position_y': PMT_position_y, 'PMT_position_R': PMT_position_R, 'PMT_position_Phi': PMT_position_Phi})\n",
    "\n"
   ]
  },
  {
   "cell_type": "code",
   "execution_count": null,
   "metadata": {},
   "outputs": [],
   "source": []
  },
  {
   "cell_type": "code",
   "execution_count": null,
   "metadata": {},
   "outputs": [],
   "source": []
  },
  {
   "cell_type": "code",
   "execution_count": null,
   "metadata": {},
   "outputs": [],
   "source": []
  },
  {
   "cell_type": "code",
   "execution_count": null,
   "metadata": {},
   "outputs": [],
   "source": []
  }
 ],
 "metadata": {
  "kernelspec": {
   "display_name": "Python 3",
   "language": "python",
   "name": "python3"
  },
  "language_info": {
   "codemirror_mode": {
    "name": "ipython",
    "version": 3
   },
   "file_extension": ".py",
   "mimetype": "text/x-python",
   "name": "python",
   "nbconvert_exporter": "python",
   "pygments_lexer": "ipython3",
   "version": "3.7.3"
  },
  "toc": {
   "base_numbering": 1,
   "nav_menu": {},
   "number_sections": true,
   "sideBar": true,
   "skip_h1_title": false,
   "title_cell": "Table of Contents",
   "title_sidebar": "Contents",
   "toc_cell": false,
   "toc_position": {},
   "toc_section_display": true,
   "toc_window_display": false
  }
 },
 "nbformat": 4,
 "nbformat_minor": 2
}
