{
 "cells": [
  {
   "cell_type": "markdown",
   "metadata": {},
   "source": [
    "# Position Reconstruction for XeBRA - Comparison\n",
    "\n",
    "**Status:** August 2019\n",
    "\n",
    "Position reconstruction for XeBRA using Centroids, LRFs and NNs as well as comparison performance simulations vs measurements."
   ]
  },
  {
   "cell_type": "code",
   "execution_count": 1,
   "metadata": {
    "ExecuteTime": {
     "end_time": "2019-08-31T12:44:42.329121Z",
     "start_time": "2019-08-31T12:44:41.596845Z"
    }
   },
   "outputs": [],
   "source": [
    "## Imports:\n",
    "\n",
    "import sys\n",
    "import glob\n",
    "\n",
    "import numpy as np\n",
    "from numpy import exp\n",
    "import matplotlib\n",
    "import matplotlib.pyplot as plt\n",
    "from matplotlib.ticker import AutoMinorLocator\n",
    "from matplotlib import gridspec\n",
    "from matplotlib.image import NonUniformImage\n",
    "from matplotlib.patches import Rectangle\n",
    "%matplotlib inline\n",
    "\n",
    "import pandas as pd\n",
    "import math\n",
    "\n",
    "from scipy import optimize\n",
    "from scipy.optimize import curve_fit\n",
    "from scipy.optimize import minimize\n",
    "from scipy import stats\n",
    "from pylab import meshgrid,cm,imshow,contour,clabel,colorbar,axis,title,show\n",
    "from scipy.interpolate import spline\n",
    "from scipy.interpolate import make_interp_spline, BSpline\n",
    "from scipy.interpolate import griddata\n",
    "from scipy.stats import chisquare\n",
    "from scipy.stats import power_divergence"
   ]
  },
  {
   "cell_type": "markdown",
   "metadata": {
    "ExecuteTime": {
     "end_time": "2019-08-31T12:45:56.234365Z",
     "start_time": "2019-08-31T12:45:56.231936Z"
    }
   },
   "source": [
    "## General Definitions and Parameters"
   ]
  },
  {
   "cell_type": "code",
   "execution_count": 3,
   "metadata": {
    "ExecuteTime": {
     "end_time": "2019-08-31T12:45:45.939193Z",
     "start_time": "2019-08-31T12:45:45.928237Z"
    }
   },
   "outputs": [],
   "source": [
    "## General function definitions:\n",
    "\n",
    "def f_polar_R(cartesian_x, cartesian_y):\n",
    "    return np.sqrt(cartesian_x * cartesian_x + cartesian_y * cartesian_y)\n",
    "\n",
    "def f_polar_Phi(cartesian_x, cartesian_y):\n",
    "    return np.arctan2(cartesian_y, cartesian_x)\n",
    "\n",
    "def f_distance(x_a, y_a, x_b, y_b):\n",
    "    return np.sqrt((x_b - x_a)**2 + (y_b - y_a)**2)\n",
    "\n",
    "\n",
    "def flatten_tuples(tup):\n",
    "    return np.array([element for tupl in tup for element in tupl])\n",
    "\n",
    "def sum_tuple_subentries(tup):\n",
    "    return [np.sum(tupl) for tupl in tup]\n",
    "\n",
    "def nth_tuple_subentries(tup, n):\n",
    "    return [tupl[n] for tupl in tup]\n",
    "\n",
    "\n",
    "def from_np_array(array_string):\n",
    "    array_string = ','.join(array_string.replace('[ ', '[').split())\n",
    "    return np.array(ast.literal_eval(array_string))"
   ]
  },
  {
   "cell_type": "code",
   "execution_count": 5,
   "metadata": {
    "ExecuteTime": {
     "end_time": "2019-08-31T12:46:00.048515Z",
     "start_time": "2019-08-31T12:46:00.033254Z"
    }
   },
   "outputs": [],
   "source": [
    "## PMT properties\n",
    "R8520_body_width = 25.7\n",
    "R8520_body_cornerradius = 2.\n",
    "R8520_photocathode_width = 20.5\n",
    "R8520_photocathode_cornerradius = 1.\n",
    "PMT_ID = np.array([1,2,3,4,5,6,7])\n",
    "PMT_position_x = np.array([-14.,-28,-14.,14.,28.,14.,0.])      # x-position PMTs in mm in cartesian coordinates\n",
    "PMT_position_y = np.array([-28.,0.,28.,28.,0.,-28.,0.])        # y-position PMTs in mm in cartesian coordinates\n",
    "PMT_position_R = f_polar_R(PMT_position_x, PMT_position_y)     # radial position PMTs in mm in polar coordinates\n",
    "PMT_position_Phi = f_polar_Phi(PMT_position_x, PMT_position_y) # angular position PMTs in rad in polar coordinates\n",
    "PMT_positions = pd.DataFrame(index=PMT_ID, data={'PMT_ID': PMT_ID, 'PMT_position_x': PMT_position_x, 'PMT_position_y': PMT_position_y, 'PMT_position_R': PMT_position_R, 'PMT_position_Phi': PMT_position_Phi})"
   ]
  },
  {
   "cell_type": "markdown",
   "metadata": {},
   "source": [
    "## Imports and Data Processing"
   ]
  },
  {
   "cell_type": "code",
   "execution_count": 13,
   "metadata": {
    "ExecuteTime": {
     "end_time": "2019-08-31T12:51:55.432067Z",
     "start_time": "2019-08-31T12:51:55.291386Z"
    }
   },
   "outputs": [
    {
     "name": "stdout",
     "output_type": "stream",
     "text": [
      "/home/alex/Thesis-Copy/Xebra_Measurements_Analysis/Position_Reconstruction_Centroid/output/run_00158_Kr83m_S2_AFT_Reconstruction_Centroid.pkl\r\n",
      "/home/alex/Thesis-Copy/Xebra_Measurements_Analysis/Position_Reconstruction_NN/output/run_00158_Kr83m_S2_AFT_Reconstruction_NN.pkl\r\n"
     ]
    }
   ],
   "source": [
    "!ls /home/alex/Thesis-Copy/Xebra_Measurements_Analysis/Position_Reconstruction_*/output/run_00158*.pkl"
   ]
  }
 ],
 "metadata": {
  "kernelspec": {
   "display_name": "Python 3",
   "language": "python",
   "name": "python3"
  },
  "language_info": {
   "codemirror_mode": {
    "name": "ipython",
    "version": 3
   },
   "file_extension": ".py",
   "mimetype": "text/x-python",
   "name": "python",
   "nbconvert_exporter": "python",
   "pygments_lexer": "ipython3",
   "version": "3.7.3"
  },
  "toc": {
   "base_numbering": 1,
   "nav_menu": {},
   "number_sections": true,
   "sideBar": true,
   "skip_h1_title": false,
   "title_cell": "Table of Contents",
   "title_sidebar": "Contents",
   "toc_cell": false,
   "toc_position": {},
   "toc_section_display": true,
   "toc_window_display": false
  }
 },
 "nbformat": 4,
 "nbformat_minor": 2
}
