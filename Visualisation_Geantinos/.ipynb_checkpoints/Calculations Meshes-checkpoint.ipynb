{
 "cells": [
  {
   "cell_type": "code",
   "execution_count": 2,
   "metadata": {},
   "outputs": [],
   "source": [
    "import numpy as np"
   ]
  },
  {
   "cell_type": "code",
   "execution_count": 3,
   "metadata": {},
   "outputs": [],
   "source": [
    "# all lenghts in units of mm, i.e. areas in units of mm²\n",
    "thickness = 0.15; # thickness wires in frame and thus frame itself\n",
    "a = 3.00831; # cell size grid mesh"
   ]
  },
  {
   "cell_type": "code",
   "execution_count": 4,
   "metadata": {},
   "outputs": [
    {
     "name": "stdout",
     "output_type": "stream",
     "text": [
      "23.5124053951\n",
      "2.40320230897\n",
      "0.897790027495\n"
     ]
    }
   ],
   "source": [
    "AreaVoid = 3/2 * a**2 * np.sqrt(3); # area of a hexagon\n",
    "print(AreaVoid)\n",
    "AreadGrid = 3/2 * (a + 2*thickness/2)**2 * np.sqrt(3) - AreaVoid;\n",
    "print(AreadGrid)\n",
    "transparency = 1-(AreadGrid/AreaVoid);\n",
    "print(transparency)"
   ]
  },
  {
   "cell_type": "code",
   "execution_count": 5,
   "metadata": {},
   "outputs": [
    {
     "name": "stdout",
     "output_type": "stream",
     "text": [
      "1.39121969186\n"
     ]
    }
   ],
   "source": [
    "absorptionlength = - thickness / (np.log(transparency));\n",
    "print(absorptionlength)"
   ]
  }
 ],
 "metadata": {
  "kernelspec": {
   "display_name": "Python 3",
   "language": "python3.5",
   "name": "python3"
  },
  "language_info": {
   "codemirror_mode": {
    "name": "ipython",
    "version": 3
   },
   "file_extension": ".py",
   "mimetype": "text/x-python",
   "name": "python",
   "nbconvert_exporter": "python",
   "pygments_lexer": "ipython3",
   "version": "3.5.5"
  }
 },
 "nbformat": 4,
 "nbformat_minor": 2
}
