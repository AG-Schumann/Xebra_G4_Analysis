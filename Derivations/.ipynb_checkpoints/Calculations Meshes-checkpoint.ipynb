{
 "cells": [
  {
   "cell_type": "markdown",
   "metadata": {},
   "source": [
    "## Calculations Transparencies Meshes"
   ]
  },
  {
   "cell_type": "code",
   "execution_count": 1,
   "metadata": {},
   "outputs": [],
   "source": [
    "import numpy as np\n",
    "import math"
   ]
  },
  {
   "cell_type": "markdown",
   "metadata": {},
   "source": [
    "### Underlying formulae\n",
    "\n",
    "exp(-GridMeshThickness/AbsortionLength) = transparency <br>\n",
    "lambda=-thickness/ln(transparency) <br>\n",
    "transparency=1-(AreadGrid/AreaVoid)"
   ]
  },
  {
   "cell_type": "markdown",
   "metadata": {},
   "source": [
    "### Standard meshes"
   ]
  },
  {
   "cell_type": "code",
   "execution_count": 2,
   "metadata": {},
   "outputs": [],
   "source": [
    "# all lenghts in units of mm, i.e. areas in units of mm²\n",
    "thickness = 0.15; # thickness wires in frame and thus frame itself\n",
    "p = 3.00831; # cell size voids grid mesh"
   ]
  },
  {
   "cell_type": "code",
   "execution_count": 3,
   "metadata": {},
   "outputs": [
    {
     "name": "stdout",
     "output_type": "stream",
     "text": [
      "7.8374684650295245\n",
      "0.8010674363227794\n",
      "0.897790027494578\n"
     ]
    }
   ],
   "source": [
    "AreaVoid = np.sqrt(3)/2 * p**2; # area of a hexagon\n",
    "print(AreaVoid)\n",
    "AreadGrid = np.sqrt(3)/2 * (p + 2*thickness/2)**2 - AreaVoid;\n",
    "print(AreadGrid)\n",
    "transparency = 1-(AreadGrid/AreaVoid);\n",
    "print(transparency)"
   ]
  },
  {
   "cell_type": "code",
   "execution_count": 4,
   "metadata": {},
   "outputs": [
    {
     "name": "stdout",
     "output_type": "stream",
     "text": [
      "1.3912196918608457\n"
     ]
    }
   ],
   "source": [
    "absorptionlength = - thickness / (np.log(transparency));\n",
    "print(absorptionlength)"
   ]
  },
  {
   "cell_type": "code",
   "execution_count": 5,
   "metadata": {},
   "outputs": [
    {
     "data": {
      "text/plain": [
       "0.8977050928054616"
      ]
     },
     "execution_count": 5,
     "metadata": {},
     "output_type": "execute_result"
    }
   ],
   "source": [
    "np.exp(- 0.15 / 1.39)"
   ]
  },
  {
   "cell_type": "code",
   "execution_count": 6,
   "metadata": {},
   "outputs": [
    {
     "data": {
      "text/plain": [
       "1.3899999597460053"
      ]
     },
     "execution_count": 6,
     "metadata": {},
     "output_type": "execute_result"
    }
   ],
   "source": [
    "- 0.15 / np.log(0.89770509)"
   ]
  },
  {
   "cell_type": "markdown",
   "metadata": {},
   "source": [
    "### Single wire mesh Patrick"
   ]
  },
  {
   "cell_type": "code",
   "execution_count": 7,
   "metadata": {},
   "outputs": [
    {
     "name": "stdout",
     "output_type": "stream",
     "text": [
      "15.52262\n",
      "7838.459013974483\n",
      "0.998019684740033\n"
     ]
    }
   ],
   "source": [
    "LengthWire = 1552.262;\n",
    "ThicknessWire = 10/1000; # 10um\n",
    "AreadGrid = LengthWire*ThicknessWire;\n",
    "print(AreadGrid)\n",
    "AreaTotal = math.pi * (50)**2 # inner diameter = 100 mm\n",
    "AreaVoid = AreaTotal - AreadGrid;\n",
    "print(AreaVoid)\n",
    "transparency = 1-(AreadGrid/AreaVoid);\n",
    "print(transparency)"
   ]
  },
  {
   "cell_type": "code",
   "execution_count": 8,
   "metadata": {},
   "outputs": [
    {
     "name": "stdout",
     "output_type": "stream",
     "text": [
      "75.67049061107255\n"
     ]
    }
   ],
   "source": [
    "absorptionlength = - thickness / (np.log(transparency));\n",
    "print(absorptionlength)"
   ]
  },
  {
   "cell_type": "markdown",
   "metadata": {},
   "source": [
    "alternate calculations with thickness only assuming sqare area (only for checks):"
   ]
  },
  {
   "cell_type": "code",
   "execution_count": 9,
   "metadata": {},
   "outputs": [
    {
     "name": "stdout",
     "output_type": "stream",
     "text": [
      "0.9980963831279431\n"
     ]
    }
   ],
   "source": [
    "Diameter = 100;\n",
    "ThicknessWire = 10/1000; # 10um\n",
    "NumberWires = 19;\n",
    "AreadGrid = ThicknessWire * NumberWires * Diameter;\n",
    "AreaVoid = Diameter**2 - AreadGrid;\n",
    "transparency = 1-(AreadGrid/AreaVoid);\n",
    "print(transparency)"
   ]
  }
 ],
 "metadata": {
  "kernelspec": {
   "display_name": "Python 3",
   "language": "python",
   "name": "python3"
  },
  "language_info": {
   "codemirror_mode": {
    "name": "ipython",
    "version": 3
   },
   "file_extension": ".py",
   "mimetype": "text/x-python",
   "name": "python",
   "nbconvert_exporter": "python",
   "pygments_lexer": "ipython3",
   "version": "3.7.0"
  }
 },
 "nbformat": 4,
 "nbformat_minor": 2
}
