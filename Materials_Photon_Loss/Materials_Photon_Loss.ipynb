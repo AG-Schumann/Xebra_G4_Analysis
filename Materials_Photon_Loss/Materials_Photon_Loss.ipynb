{
 "cells": [
  {
   "cell_type": "markdown",
   "metadata": {
    "ExecuteTime": {
     "end_time": "2019-10-16T11:39:49.049606Z",
     "start_time": "2019-10-16T11:39:49.044847Z"
    }
   },
   "source": [
    "# Materials Photon Loss"
   ]
  },
  {
   "cell_type": "code",
   "execution_count": 1,
   "metadata": {
    "ExecuteTime": {
     "end_time": "2019-10-16T16:44:28.335158Z",
     "start_time": "2019-10-16T16:44:27.472151Z"
    }
   },
   "outputs": [],
   "source": [
    "import numpy as np\n",
    "import pandas as pd"
   ]
  },
  {
   "cell_type": "code",
   "execution_count": 2,
   "metadata": {
    "ExecuteTime": {
     "end_time": "2019-10-16T16:44:28.338921Z",
     "start_time": "2019-10-16T16:44:28.336570Z"
    }
   },
   "outputs": [],
   "source": [
    "flag_index  = [1, 2, 3, 4, 5, 6, 7, 8, 9, 10, 11]\n",
    "name        = ['PMT0_Photocathode', 'PMT_R8520_Photocathode', \n",
    "              'TPC_SS_gate_mesh', 'TPC_SS_cathode_mesh', 'TPC_SS_anode_mesh', \n",
    "              'TPC_SS_TopMesh_mesh', 'LXe', 'TPC_PTFE_reflector', \n",
    "              'TPC_PTFE_TopPMTHolder', 'TPC_PTFE_spacer', 'PMT0_Body']\n",
    "process     = [\"OpAbsorption\", \"OpAbsorption\", \"OpAbsorption\", \"OpAbsorption\", \n",
    "              \"OpAbsorption\", \"OpAbsorption\", \"OpAbsorption\", \"Transportation\", \n",
    "              \"Transportation\", \"Transportation\", \"Transportation\"]"
   ]
  },
  {
   "cell_type": "code",
   "execution_count": 3,
   "metadata": {
    "ExecuteTime": {
     "end_time": "2019-10-16T16:44:28.357466Z",
     "start_time": "2019-10-16T16:44:28.340164Z"
    }
   },
   "outputs": [
    {
     "data": {
      "text/plain": [
       "96.2"
      ]
     },
     "execution_count": 3,
     "metadata": {},
     "output_type": "execute_result"
    }
   ],
   "source": [
    "#percentage_S1 = np.array([2.56898e6, 383977, 1.64619e6, 1.07234e6, 327549, \n",
    "#                       244757, 1.50626e6, 1.00304e6, 48440, 84680, 741865])/1e7*100\n",
    "percentage_S1 = np.array([7.70764e6, 1.15275e6, 4.93402e6, 3.21915e6, 981186, \n",
    "                         737302, 4.52045e6, 3.00901e6, 146014, 254420, \n",
    "                          2.22379e6])/3e7*100\n",
    "percentage_S1 = np.around(percentage_S1, decimals=1)\n",
    "percentage_S1.sum()"
   ]
  },
  {
   "cell_type": "code",
   "execution_count": 4,
   "metadata": {
    "ExecuteTime": {
     "end_time": "2019-10-16T16:44:28.369459Z",
     "start_time": "2019-10-16T16:44:28.358594Z"
    }
   },
   "outputs": [
    {
     "data": {
      "text/plain": [
       "94.29999999999998"
      ]
     },
     "execution_count": 4,
     "metadata": {},
     "output_type": "execute_result"
    }
   ],
   "source": [
    "percentage_S2 = np.array([4.17352e6, 3.89242e6, 3.65618e6, 1.39022e6, 5.92419e6, \n",
    "                         3.14447e6, 2.13181e6, 1.15356e6, 499586, 1.14295e6, \n",
    "                         1.21025e6])/3e7*100\n",
    "percentage_S2 = np.around(percentage_S2, decimals=1)\n",
    "percentage_S2.sum()"
   ]
  },
  {
   "cell_type": "code",
   "execution_count": 5,
   "metadata": {
    "ExecuteTime": {
     "end_time": "2019-10-16T16:44:28.387943Z",
     "start_time": "2019-10-16T16:44:28.370513Z"
    }
   },
   "outputs": [
    {
     "data": {
      "text/html": [
       "<div>\n",
       "<style scoped>\n",
       "    .dataframe tbody tr th:only-of-type {\n",
       "        vertical-align: middle;\n",
       "    }\n",
       "\n",
       "    .dataframe tbody tr th {\n",
       "        vertical-align: top;\n",
       "    }\n",
       "\n",
       "    .dataframe thead th {\n",
       "        text-align: right;\n",
       "    }\n",
       "</style>\n",
       "<table border=\"1\" class=\"dataframe\">\n",
       "  <thead>\n",
       "    <tr style=\"text-align: right;\">\n",
       "      <th></th>\n",
       "      <th>voulme name</th>\n",
       "      <th>process</th>\n",
       "      <th>loss S1 [%]</th>\n",
       "      <th>loss S2 [%]</th>\n",
       "    </tr>\n",
       "  </thead>\n",
       "  <tbody>\n",
       "    <tr>\n",
       "      <th>1</th>\n",
       "      <td>PMT0_Photocathode</td>\n",
       "      <td>OpAbsorption</td>\n",
       "      <td>25.7</td>\n",
       "      <td>13.9</td>\n",
       "    </tr>\n",
       "    <tr>\n",
       "      <th>3</th>\n",
       "      <td>TPC_SS_gate_mesh</td>\n",
       "      <td>OpAbsorption</td>\n",
       "      <td>16.4</td>\n",
       "      <td>12.2</td>\n",
       "    </tr>\n",
       "    <tr>\n",
       "      <th>7</th>\n",
       "      <td>LXe</td>\n",
       "      <td>OpAbsorption</td>\n",
       "      <td>15.1</td>\n",
       "      <td>7.1</td>\n",
       "    </tr>\n",
       "    <tr>\n",
       "      <th>4</th>\n",
       "      <td>TPC_SS_cathode_mesh</td>\n",
       "      <td>OpAbsorption</td>\n",
       "      <td>10.7</td>\n",
       "      <td>4.6</td>\n",
       "    </tr>\n",
       "    <tr>\n",
       "      <th>8</th>\n",
       "      <td>TPC_PTFE_reflector</td>\n",
       "      <td>Transportation</td>\n",
       "      <td>10.0</td>\n",
       "      <td>3.8</td>\n",
       "    </tr>\n",
       "    <tr>\n",
       "      <th>11</th>\n",
       "      <td>PMT0_Body</td>\n",
       "      <td>Transportation</td>\n",
       "      <td>7.4</td>\n",
       "      <td>4.0</td>\n",
       "    </tr>\n",
       "    <tr>\n",
       "      <th>2</th>\n",
       "      <td>PMT_R8520_Photocathode</td>\n",
       "      <td>OpAbsorption</td>\n",
       "      <td>3.8</td>\n",
       "      <td>13.0</td>\n",
       "    </tr>\n",
       "    <tr>\n",
       "      <th>5</th>\n",
       "      <td>TPC_SS_anode_mesh</td>\n",
       "      <td>OpAbsorption</td>\n",
       "      <td>3.3</td>\n",
       "      <td>19.7</td>\n",
       "    </tr>\n",
       "    <tr>\n",
       "      <th>6</th>\n",
       "      <td>TPC_SS_TopMesh_mesh</td>\n",
       "      <td>OpAbsorption</td>\n",
       "      <td>2.5</td>\n",
       "      <td>10.5</td>\n",
       "    </tr>\n",
       "    <tr>\n",
       "      <th>10</th>\n",
       "      <td>TPC_PTFE_spacer</td>\n",
       "      <td>Transportation</td>\n",
       "      <td>0.8</td>\n",
       "      <td>3.8</td>\n",
       "    </tr>\n",
       "    <tr>\n",
       "      <th>9</th>\n",
       "      <td>TPC_PTFE_TopPMTHolder</td>\n",
       "      <td>Transportation</td>\n",
       "      <td>0.5</td>\n",
       "      <td>1.7</td>\n",
       "    </tr>\n",
       "  </tbody>\n",
       "</table>\n",
       "</div>"
      ],
      "text/plain": [
       "               voulme name         process  loss S1 [%]  loss S2 [%]\n",
       "1        PMT0_Photocathode    OpAbsorption         25.7         13.9\n",
       "3         TPC_SS_gate_mesh    OpAbsorption         16.4         12.2\n",
       "7                      LXe    OpAbsorption         15.1          7.1\n",
       "4      TPC_SS_cathode_mesh    OpAbsorption         10.7          4.6\n",
       "8       TPC_PTFE_reflector  Transportation         10.0          3.8\n",
       "11               PMT0_Body  Transportation          7.4          4.0\n",
       "2   PMT_R8520_Photocathode    OpAbsorption          3.8         13.0\n",
       "5        TPC_SS_anode_mesh    OpAbsorption          3.3         19.7\n",
       "6      TPC_SS_TopMesh_mesh    OpAbsorption          2.5         10.5\n",
       "10         TPC_PTFE_spacer  Transportation          0.8          3.8\n",
       "9    TPC_PTFE_TopPMTHolder  Transportation          0.5          1.7"
      ]
     },
     "execution_count": 5,
     "metadata": {},
     "output_type": "execute_result"
    }
   ],
   "source": [
    "d = {'voulme name': name, 'process': process, \n",
    "     'loss S1 [%]': percentage_S1.tolist(), \n",
    "     'loss S2 [%]': percentage_S2.tolist()}\n",
    "df = pd.DataFrame(data=d, index=flag_index)\n",
    "df.sort_values(by=['loss S1 [%]'], ascending=False)"
   ]
  }
 ],
 "metadata": {
  "kernelspec": {
   "display_name": "Python 3",
   "language": "python",
   "name": "python3"
  },
  "language_info": {
   "codemirror_mode": {
    "name": "ipython",
    "version": 3
   },
   "file_extension": ".py",
   "mimetype": "text/x-python",
   "name": "python",
   "nbconvert_exporter": "python",
   "pygments_lexer": "ipython3",
   "version": "3.7.3"
  },
  "toc": {
   "base_numbering": 1,
   "nav_menu": {},
   "number_sections": true,
   "sideBar": true,
   "skip_h1_title": false,
   "title_cell": "Table of Contents",
   "title_sidebar": "Contents",
   "toc_cell": false,
   "toc_position": {},
   "toc_section_display": true,
   "toc_window_display": false
  }
 },
 "nbformat": 4,
 "nbformat_minor": 2
}
